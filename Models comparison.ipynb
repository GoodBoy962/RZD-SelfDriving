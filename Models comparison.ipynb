{
 "cells": [
  {
   "cell_type": "markdown",
   "metadata": {},
   "source": [
    "## Different NN models comparison for segmentation task\n",
    "\n",
    "### Encoders (Feature extraction models):\n",
    "1. VGG-16\n",
    "2. ResNET-50\n",
    "3. ResNET-101\n",
    "4. SqueezeNet\n",
    "5. GoogLeNet\n",
    "\n",
    "### Decoders (Output models)\n",
    "1. FCN-8\n",
    "2. Deeplabs"
   ]
  },
  {
   "cell_type": "code",
   "execution_count": 1,
   "metadata": {},
   "outputs": [
    {
     "name": "stderr",
     "output_type": "stream",
     "text": [
      "Using TensorFlow backend.\n"
     ]
    }
   ],
   "source": [
    "import os\n",
    "import cv2\n",
    "import matplotlib.pyplot as plt\n",
    "import matplotlib.image as mpimg\n",
    "import numpy as np\n",
    "\n",
    "import keras\n",
    "import keras_applications\n",
    "from keras import backend as k\n",
    "from keras.models import Model \n",
    "from keras.layers import Conv2DTranspose, Conv2D, Input, Add\n",
    "\n",
    "from sklearn.model_selection import train_test_split"
   ]
  },
  {
   "cell_type": "code",
   "execution_count": 2,
   "metadata": {},
   "outputs": [],
   "source": [
    "%matplotlib inline"
   ]
  },
  {
   "cell_type": "markdown",
   "metadata": {},
   "source": [
    "## Preparing images"
   ]
  },
  {
   "cell_type": "code",
   "execution_count": 3,
   "metadata": {},
   "outputs": [],
   "source": [
    "def _resize_image(image):\n",
    "    return cv2.resize(image, (IMAGE_HEIGHT, IMAGE_WIDTH))\n",
    "\n",
    "def _rgb_to_greyscale(image):\n",
    "    grey = cv2.cvtColor(image, cv2.COLOR_BGR2GRAY)\n",
    "    return np.reshape(grey, (IMAGE_HEIGHT, IMAGE_WIDTH, 1))\n",
    "\n",
    "def read_images_from_path(path, is_mask=False):\n",
    "    '''\n",
    "        read images from filepath and return array with them\n",
    "    '''\n",
    "    images = []\n",
    "    for f in os.listdir(path):\n",
    "        image = cv2.imread(os.path.join(path, f))\n",
    "        resized_image = _resize_image(image)\n",
    "        if is_mask:\n",
    "            resized_image = _rgb_to_greyscale(resized_image)\n",
    "        images.append(resized_image)\n",
    "        \n",
    "    return np.array(images)"
   ]
  },
  {
   "cell_type": "code",
   "execution_count": 4,
   "metadata": {},
   "outputs": [],
   "source": [
    "IMAGE_WIDTH = IMAGE_HEIGHT = 224\n",
    "\n",
    "IMAGE_PATH = './datasets/Unet_Dataset/Files'\n",
    "MASK_PATH = './datasets/Unet_Dataset/Masks'\n",
    "\n",
    "images = read_images_from_path(IMAGE_PATH)\n",
    "masks = read_images_from_path(MASK_PATH, is_mask=True)\n",
    "\n",
    "trainX, valX, trainY, valY = train_test_split(images, masks, test_size = 0.1, random_state = 0)"
   ]
  },
  {
   "cell_type": "markdown",
   "metadata": {},
   "source": [
    "## Models"
   ]
  },
  {
   "cell_type": "code",
   "execution_count": 5,
   "metadata": {},
   "outputs": [],
   "source": [
    "###########################################################\n",
    "###################### Encoders ###########################\n",
    "###########################################################\n",
    "def _bridge(encoder, filters):\n",
    "    bridge = Conv2D(filters=filters, kernel_size=(7,7), activation='relu', padding='same', name='conv6')(encoder.output)\n",
    "    bridge = Conv2D(filters=filters, kernel_size=(1,1), activation='relu', padding='same', name='conv7')(bridge)\n",
    "    return Model(inputs=encoder.input, outputs=bridge)    \n",
    "\n",
    "def vgg16(input_shape, weights=None):\n",
    "    encoder = keras.applications.vgg16.VGG16(weights=weights, include_top=False, input_shape=input_shape)\n",
    "    return _bridge(encoder, 4096)\n",
    "\n",
    "def resnet50(input_shape, weights=None):\n",
    "    encoder = keras.applications.resnet50.ResNet50(weights=weights, include_top=False, input_shape=input_shape)\n",
    "    return _bridge(encoder, 2048)\n",
    "\n",
    "#def resnet101_cropped(input_shape, weights=None):\n",
    "#    return keras_applications.resnet.ResNet101(weights=weights, include_top=False, input_shape=input_shape)\n",
    "\n",
    "\n",
    "###########################################################\n",
    "###################### Decoders ###########################\n",
    "###########################################################\n",
    "def fcn_8s(encoder, pre_last_pool, pre_pre_last_pool, nb_classes=1):\n",
    "    fcn8 = Conv2DTranspose(filters=nb_classes, kernel_size=(4,4),strides=(2,2),padding='same',name='fcn8')(encoder.output)\n",
    "    #block4_pool = encoder.get_layer('block4_pool').output\n",
    "    block4_pool_conv = Conv2D(filters=nb_classes, kernel_size=(1,1), activation='relu', padding='same', name='pre_last_pool_conv')(pre_last_pool.output)\n",
    "    fcn8_skip_connected = Add(name='fcn8_plus_pool')([fcn8, block4_pool_conv])\n",
    "    fcn9 = Conv2DTranspose(filters=nb_classes,kernel_size=(4,4),strides=(2,2),padding='same',name='fcn9')(fcn8_skip_connected)\n",
    "    #block3_pool = encoder.get_layer('block3_pool').output\n",
    "    block3_pool_conv = Conv2D(filters=nb_classes, kernel_size=(1,1), activation='relu', padding='same', name='pre_pre_last_pool_conv')(pre_pre_last_pool.output)    \n",
    "    fcn9_skip_connected = Add(name='fcn10_plus_pool')([fcn9, block3_pool_conv])\n",
    "    fcn10 = Conv2DTranspose(filters=nb_classes,kernel_size=(16,16),strides=(8,8),padding='same',name='fcn10',activation='sigmoid')(fcn9_skip_connected)\n",
    "    return Model(inputs=encoder.input, outputs=fcn10)\n"
   ]
  },
  {
   "cell_type": "code",
   "execution_count": 6,
   "metadata": {},
   "outputs": [
    {
     "name": "stdout",
     "output_type": "stream",
     "text": [
      "WARNING:tensorflow:From /anaconda3/envs/rzd/lib/python3.7/site-packages/tensorflow/python/framework/op_def_library.py:263: colocate_with (from tensorflow.python.framework.ops) is deprecated and will be removed in a future version.\n",
      "Instructions for updating:\n",
      "Colocations handled automatically by placer.\n",
      "__________________________________________________________________________________________________\n",
      "Layer (type)                    Output Shape         Param #     Connected to                     \n",
      "==================================================================================================\n",
      "input_1 (InputLayer)            (None, 224, 224, 3)  0                                            \n",
      "__________________________________________________________________________________________________\n",
      "block1_conv1 (Conv2D)           (None, 224, 224, 64) 1792        input_1[0][0]                    \n",
      "__________________________________________________________________________________________________\n",
      "block1_conv2 (Conv2D)           (None, 224, 224, 64) 36928       block1_conv1[0][0]               \n",
      "__________________________________________________________________________________________________\n",
      "block1_pool (MaxPooling2D)      (None, 112, 112, 64) 0           block1_conv2[0][0]               \n",
      "__________________________________________________________________________________________________\n",
      "block2_conv1 (Conv2D)           (None, 112, 112, 128 73856       block1_pool[0][0]                \n",
      "__________________________________________________________________________________________________\n",
      "block2_conv2 (Conv2D)           (None, 112, 112, 128 147584      block2_conv1[0][0]               \n",
      "__________________________________________________________________________________________________\n",
      "block2_pool (MaxPooling2D)      (None, 56, 56, 128)  0           block2_conv2[0][0]               \n",
      "__________________________________________________________________________________________________\n",
      "block3_conv1 (Conv2D)           (None, 56, 56, 256)  295168      block2_pool[0][0]                \n",
      "__________________________________________________________________________________________________\n",
      "block3_conv2 (Conv2D)           (None, 56, 56, 256)  590080      block3_conv1[0][0]               \n",
      "__________________________________________________________________________________________________\n",
      "block3_conv3 (Conv2D)           (None, 56, 56, 256)  590080      block3_conv2[0][0]               \n",
      "__________________________________________________________________________________________________\n",
      "block3_pool (MaxPooling2D)      (None, 28, 28, 256)  0           block3_conv3[0][0]               \n",
      "__________________________________________________________________________________________________\n",
      "block4_conv1 (Conv2D)           (None, 28, 28, 512)  1180160     block3_pool[0][0]                \n",
      "__________________________________________________________________________________________________\n",
      "block4_conv2 (Conv2D)           (None, 28, 28, 512)  2359808     block4_conv1[0][0]               \n",
      "__________________________________________________________________________________________________\n",
      "block4_conv3 (Conv2D)           (None, 28, 28, 512)  2359808     block4_conv2[0][0]               \n",
      "__________________________________________________________________________________________________\n",
      "block4_pool (MaxPooling2D)      (None, 14, 14, 512)  0           block4_conv3[0][0]               \n",
      "__________________________________________________________________________________________________\n",
      "block5_conv1 (Conv2D)           (None, 14, 14, 512)  2359808     block4_pool[0][0]                \n",
      "__________________________________________________________________________________________________\n",
      "block5_conv2 (Conv2D)           (None, 14, 14, 512)  2359808     block5_conv1[0][0]               \n",
      "__________________________________________________________________________________________________\n",
      "block5_conv3 (Conv2D)           (None, 14, 14, 512)  2359808     block5_conv2[0][0]               \n",
      "__________________________________________________________________________________________________\n",
      "block5_pool (MaxPooling2D)      (None, 7, 7, 512)    0           block5_conv3[0][0]               \n",
      "__________________________________________________________________________________________________\n",
      "conv6 (Conv2D)                  (None, 7, 7, 4096)   102764544   block5_pool[0][0]                \n",
      "__________________________________________________________________________________________________\n",
      "conv7 (Conv2D)                  (None, 7, 7, 4096)   16781312    conv6[0][0]                      \n",
      "__________________________________________________________________________________________________\n",
      "fcn8 (Conv2DTranspose)          (None, 14, 14, 1)    65537       conv7[0][0]                      \n",
      "__________________________________________________________________________________________________\n",
      "pre_last_pool_conv (Conv2D)     (None, 14, 14, 1)    513         block4_pool[0][0]                \n",
      "__________________________________________________________________________________________________\n",
      "fcn8_plus_pool (Add)            (None, 14, 14, 1)    0           fcn8[0][0]                       \n",
      "                                                                 pre_last_pool_conv[0][0]         \n",
      "__________________________________________________________________________________________________\n",
      "fcn9 (Conv2DTranspose)          (None, 28, 28, 1)    17          fcn8_plus_pool[0][0]             \n",
      "__________________________________________________________________________________________________\n",
      "pre_pre_last_pool_convv (Conv2D (None, 28, 28, 1)    257         block3_pool[0][0]                \n",
      "__________________________________________________________________________________________________\n",
      "fcn10_plus_pool (Add)           (None, 28, 28, 1)    0           fcn9[0][0]                       \n",
      "                                                                 pre_pre_last_pool_convv[0][0]    \n",
      "__________________________________________________________________________________________________\n",
      "fcn10 (Conv2DTranspose)         (None, 224, 224, 1)  257         fcn10_plus_pool[0][0]            \n",
      "==================================================================================================\n",
      "Total params: 134,327,125\n",
      "Trainable params: 134,327,125\n",
      "Non-trainable params: 0\n",
      "__________________________________________________________________________________________________\n"
     ]
    }
   ],
   "source": [
    "vgg16 = vgg16(input_shape=trainX[1].shape)\n",
    "model = fcn_8s(vgg16, vgg16.get_layer('block4_pool'), vgg16.get_layer('block3_pool'))\n",
    "model.summary()"
   ]
  },
  {
   "cell_type": "code",
   "execution_count": 7,
   "metadata": {},
   "outputs": [],
   "source": [
    "#model.compile(optimizer='Adam', loss='binary_crossentropy')"
   ]
  },
  {
   "cell_type": "code",
   "execution_count": 8,
   "metadata": {},
   "outputs": [],
   "source": [
    "#model.fit(x=trainX, y=trainY, batch_size=10, validation_data=(valX, valY), epochs=200, verbose=1)"
   ]
  }
 ],
 "metadata": {
  "kernelspec": {
   "display_name": "Python 3",
   "language": "python",
   "name": "python3"
  },
  "language_info": {
   "codemirror_mode": {
    "name": "ipython",
    "version": 3
   },
   "file_extension": ".py",
   "mimetype": "text/x-python",
   "name": "python",
   "nbconvert_exporter": "python",
   "pygments_lexer": "ipython3",
   "version": "3.7.3"
  }
 },
 "nbformat": 4,
 "nbformat_minor": 2
}
